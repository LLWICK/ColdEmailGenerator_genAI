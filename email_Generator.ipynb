{
 "cells": [
  {
   "cell_type": "code",
   "execution_count": 3,
   "id": "b1a86a9a-7fc5-4fc3-bda9-13a99b065de3",
   "metadata": {},
   "outputs": [],
   "source": [
    "from langchain_groq import ChatGroq\n",
    "import os\n",
    "from dotenv import load_dotenv"
   ]
  },
  {
   "cell_type": "code",
   "execution_count": 5,
   "id": "dd6308ea-8cef-4d47-bc71-bd5f32fc3806",
   "metadata": {},
   "outputs": [
    {
     "data": {
      "text/plain": [
       "True"
      ]
     },
     "execution_count": 5,
     "metadata": {},
     "output_type": "execute_result"
    }
   ],
   "source": [
    "load_dotenv()"
   ]
  },
  {
   "cell_type": "code",
   "execution_count": 6,
   "id": "4329dbca-e5c5-4ada-acb6-ed869514d2dc",
   "metadata": {},
   "outputs": [],
   "source": [
    "llm = ChatGroq(\n",
    "    model=\"deepseek-r1-distill-llama-70b\",\n",
    "    temperature=0,\n",
    "    # other params...\n",
    ")"
   ]
  },
  {
   "cell_type": "code",
   "execution_count": 7,
   "id": "a16e580f-fddb-4273-9006-80076fd48ab3",
   "metadata": {},
   "outputs": [
    {
     "name": "stdout",
     "output_type": "stream",
     "text": [
      "<think>\n",
      "\n",
      "</think>\n",
      "\n",
      "The capital of Sri Lanka is **Sri Jayawardenepura Kotte**, which is the administrative capital. However, the largest city and commercial capital is **Colombo**.\n"
     ]
    }
   ],
   "source": [
    "response  = llm.invoke(\"Capital of Sri lanka\")\n",
    "print(response.content)"
   ]
  },
  {
   "cell_type": "code",
   "execution_count": 9,
   "id": "7e61a6b0-96bb-4e1b-aea3-aaef4910adca",
   "metadata": {},
   "outputs": [
    {
     "name": "stdout",
     "output_type": "stream",
     "text": [
      "\n",
      "\n",
      "\n",
      "\n",
      "AI Architect - Jobs - Careers at Apple\n",
      "\n",
      "\n",
      "\n",
      "\n",
      "\n",
      "\n",
      "\n",
      "\n",
      "\n",
      "\n",
      "\n",
      "\n",
      "\n",
      "AppleStoreMaciPadiPhoneWatch\n",
      "VisionAirPodsTV & HomeEntertainmentAccessoriesSupport\n",
      "\n",
      "\n",
      "0+\n",
      "\n",
      "\n",
      "    Please enable Javascript in your browser for best experience.\n",
      "  \n",
      "\n",
      "Careers at AppleOverviewWork at AppleExplore Work at AppleLocationsTeamsApple RetailStudentsLife at AppleExplore Life at AppleDiversity Network AssociationsShared ValuesBenefitsMy ProfileSign InSearch RolesAI ArchitectAustin, Texas, United StatesSoftware and ServicesAustin, Texas, United StatesCupertino, California, United StatesWork Locations (2)Submit ResumeBack to search resultsSummaryPosted: Aug 08, 2025Weekly Hours: 40Role Number:200612095-0157Imagine what you could do here. At Apple, new ideas have a way of becoming outstanding products, services, and customer experiences very quickly. Bring passion and dedication to your job, and there's no telling what you could accomplish!\n",
      "\n",
      "Apple’s Sales organization generates the revenue needed to fuel our ongoing development of products and services. This, in turn, enriches the lives of hundreds of millions of people around the world. We are, in many ways, the face of Apple to our largest customers.\n",
      "\n",
      "Apple's US Decision Intelligence (DI) team is looking for a dedicated individual who is passionate about crafting, implementing, and operating AI solutions that have a direct and measurable impact on Apple Sales and its customers. We’re seeking a visionary US DI AI Platform Architect to lead the design and evolution of our internal AI orchestration layer—powering intelligent agents, embedding expert systems, and integrating GenAI capabilities across our sales data ecosystem. This role will work directly with product, engineering, and executive stakeholders to architect and scale a modular, future-proof AI infrastructure aligned with our AI strategy.DescriptionThis role will operate in both capacities, to augment existing AI roadmap, as well as innovate and trailblazing new frontier tech projects, crafting AI experiences that reduce time to insights and catalyze decision making.\n",
      "\n",
      "AI is a team sport, and in your role, you will be key in leading and influencing teams on the translation of business problems and questions into GenAI solutions. In this role, you will:\n",
      "\n",
      "- Architect the core GenAI orchestration platform, including routing logic, agent specialization, fallback handling, and metadata logging.\n",
      "\n",
      "- Design modular APIs, SDKs, and microservices to integrate LLMs, retrieval-augmented generation (RAG), traditional ML models, and data pipelines.\n",
      "\n",
      "- Drive interoperability with existing ML systems (e.g., forecasting, attribution, anomaly detection) and support downstream apps like dashboards, web tools, and chat interfaces.\n",
      "\n",
      "- Partner closely with data science, engineering, and sales ops to embed context-aware intelligence in decision-making tools.\n",
      "\n",
      "- Lead technical decision-making on infrastructure components, embedding safety mechanisms (e.g., autonomy sliders, grounding checks, model monitoring).\n",
      "\n",
      "- Build scalable pipelines for multi-modal agent input, memory, and semantic routing.\n",
      "\n",
      "- Contribute to hiring and mentoring a cross-functional team of engineers and scientists.\n",
      "\n",
      "- Collaborate closely with business teams to incorporate AI into their weekly cadences.Minimum Qualifications8+ years of experience in data and AI-related fields such as software architecture or AI engineering, software development, data science, data analysis, or data lead roles, with experience across both traditional ML systems and GenAI LLMs.Eagerness and ability to learn new skills and solve dynamic problems in an encouraging and expansive environment.Ability to lead the development of AI projects from start to finish.Comfort with ambiguity. Ability to architect a full orchestrator and business context layer for sales.Applied knowledge of GenAI and RAG strategies, microservices, MCP, A2E, recommendation systems, and prompt engineering.Deep knowledge of LLM ecosystems (OpenAI, Anthropic, Gemini, etc.), RAG pipelines, vector databases (e.g., Pinecone, FAISS, Milvus, PostgreSQL).Proficiency in SQL and experience with at least one major data analytics platform, such as Hadoop, Spark, or Snowflake.Experience with API management, orchestration layers (e.g., LangChain, Semantic Kernel, Haystack), and prompt engineering best practices.Proficiency in programming languages, tools, and frameworks like Python, Git, Notebooks, Dataiku, and Streamlit.Familiarity with telemetry and evaluation frameworks for AI agents.Experience working with data science teams on insights generation leveraging LLMs.Knowledge of project management, productivity, and design tools such as Wrike and Sketch.Strong time management skills with the ability to collaborate across multiple teams.Proven experience designing scalable, cloud-native platforms (e.g., AWS, GCP, or on-prem hybrid).Able to balance competing priorities, long-term projects, and ad hoc requirements.Ability to work in a fast-paced, dynamic, constantly evolving business environment.B.S Degree in Computer Science/Engineering, or equivalent work experience.Preferred QualificationsStrong experience articulating and translating business questions into AI solutions.Ability to communicate results and insights effectively to partners and senior leaders, as well as both technical and non-technical audiences.Experience with anomaly detection and causal inference models.Sound communication skills - adept at messaging domain and technical content, at a level appropriate for the audience. Strong ability to gain trust with customers and senior leadership.Proven experience working with LLMs and GenAI frameworks (LangChain, LlamaIndex, etc.).Familiarity with embedding, retrieval algorithms, agents, and data modeling for vector development graphs.Proficiency with complementary technologies for distributed systems architecture and asynchronous messaging, agent communication and catching like RabbitMQ, Redis, and Valkey are preferred.Advanced Degree (MS or Ph.D.) in Economics, Electrical Engineering, Statistics, Data Science, or a similar quantitative field are preferred.Apple is an equal opportunity employer that is committed to inclusion and diversity. We seek to promote equal opportunity for all applicants without regard to race, color, religion, sex, sexual orientation, gender identity, national origin, disability, Veteran status, or other legally protected characteristics. Learn more about your EEO rights as an applicant.Submit ResumeBack to search resultsSee all roles in Austin\n",
      "\n",
      "Apple FooterApple is an equal opportunity employer that is committed to inclusion and diversity. We seek to promote equal opportunity for all applicants without regard to race, color, religion, sex, sexual orientation, gender identity, national origin, disability, Veteran status, or other legally protected characteristics. Learn more about your EEO rights as an applicant (Opens in a new window) .Apple will not discriminate or retaliate against applicants who inquire about, disclose, or discuss their compensation.Apple participates in the E-Verify program in certain locations as required by law. Learn more about the E-Verify program.Apple is committed to working with and providing reasonable accommodation to applicants with physical and mental disabilities.  Reasonable Accommodation and Drug Free Workplace policyLearn more (Opens in a new window) .Apple is a drug-free workplace.  Reasonable Accommodation and Drug Free Workplace policyLearn more (Opens in a new window) .Apple will consider for employment all qualified applicants with criminal histories in a manner consistent with applicable law. If you’re applying for a position in San Francisco, review the  San Francisco Fair Chance Ordinance guidelines (opens in a new window)  applicable in your area.It is unlawful in Massachusetts to require or administer a lie detector test as a condition of employment or continued employment. An employer who violates this law shall be subject to criminal penalties and civil liability.AppleCareers at AppleCareers at AppleShop and LearnShop and LearnStoreMaciPadiPhoneWatchVisionAirPodsTV & HomeAirTagAccessoriesGift CardsApple WalletApple WalletWalletApple CardApple PayApple CashAccountAccountManage Your Apple AccountApple Store AccountiCloud.comEntertainmentEntertainmentApple OneApple TV+Apple MusicApple ArcadeApple Fitness+Apple News+Apple PodcastsApple BooksApp StoreApple StoreApple StoreFind a StoreGenius BarToday at AppleGroup ReservationsApple CampApple Store AppCertified RefurbishedApple Trade InFinancingCarrier Deals at AppleOrder StatusShopping HelpFor BusinessFor BusinessApple and BusinessShop for BusinessFor EducationFor EducationApple and EducationShop for K-12Shop for CollegeFor HealthcareFor HealthcareApple in HealthcareMac in HealthcareHealth on Apple WatchHealth Records on iPhone and iPadFor GovernmentFor GovernmentShop for GovernmentShop for Veterans and MilitaryApple ValuesApple ValuesAccessibilityEducationEnvironmentInclusion and DiversityPrivacyRacial Equity and JusticeSupply ChainAbout AppleAbout AppleNewsroomApple LeadershipCareer OpportunitiesInvestorsEthics & ComplianceEventsContact Apple\n",
      "More ways to shop: Find an Apple Store or other retailer near you. Or call 1-800-MY-APPLE.United StatesCopyright © 2025 Apple Inc. All rights reserved.Privacy PolicyTerms of UseSales and RefundsLegalSite Map\n",
      "\n",
      "\n",
      "\n",
      "\n",
      "\n",
      "\n",
      "\n",
      "\n",
      "\n",
      "\n"
     ]
    }
   ],
   "source": [
    "from langchain_community.document_loaders import WebBaseLoader\n",
    "\n",
    "loader = WebBaseLoader(\"https://jobs.apple.com/en-us/details/200612095-0157/ai-architect?team=SFTWR\")\n",
    "content1 = loader.load().pop().page_content\n",
    "print(content1)"
   ]
  },
  {
   "cell_type": "code",
   "execution_count": null,
   "id": "720dceb7-83df-405e-8337-799e0ff08cae",
   "metadata": {},
   "outputs": [],
   "source": []
  }
 ],
 "metadata": {
  "kernelspec": {
   "display_name": "Python [conda env:base] *",
   "language": "python",
   "name": "conda-base-py"
  },
  "language_info": {
   "codemirror_mode": {
    "name": "ipython",
    "version": 3
   },
   "file_extension": ".py",
   "mimetype": "text/x-python",
   "name": "python",
   "nbconvert_exporter": "python",
   "pygments_lexer": "ipython3",
   "version": "3.12.7"
  }
 },
 "nbformat": 4,
 "nbformat_minor": 5
}
